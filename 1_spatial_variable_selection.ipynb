{
 "cells": [
  {
   "cell_type": "markdown",
   "id": "3ee02d76",
   "metadata": {},
   "source": [
    "# Spatial Variable Selection"
   ]
  },
  {
   "cell_type": "code",
   "execution_count": 1,
   "id": "a5d7d933",
   "metadata": {},
   "outputs": [],
   "source": [
    "import numpy as np\n",
    "import pandas as pd\n",
    "import sklearn\n",
    "from sklearn.model_selection import train_test_split\n",
    "from sklearn.metrics import roc_auc_score\n",
    "from interpret.glassbox import ExplainableBoostingClassifier\n",
    "import geopandas as gpd\n",
    "import pickle\n",
    "import matplotlib.pyplot as plt\n",
    "import seaborn as sns\n",
    "from tqdm.notebook import tqdm"
   ]
  },
  {
   "cell_type": "code",
   "execution_count": 2,
   "id": "0227bec6",
   "metadata": {},
   "outputs": [],
   "source": [
    "data=gpd.read_file('Data/SUs.shp')\n",
    "data['x']=data.geometry.centroid.x\n",
    "data['y']=data.geometry.centroid.y\n",
    "coordinates=data[[\"x\",\"y\"]].values"
   ]
  },
  {
   "cell_type": "markdown",
   "id": "59e43af7",
   "metadata": {},
   "source": [
    "## Data - preprocessing"
   ]
  },
  {
   "cell_type": "code",
   "execution_count": 3,
   "id": "e5f64f5a",
   "metadata": {},
   "outputs": [],
   "source": [
    "litho = ['Lit3', 'Lit5', 'Lit6', 'Lit10', 'Lit12', 'Lit16', 'Lit17']\n",
    "data['litho'] = data[litho].idxmax(axis=1)\n",
    "data['litho']=data.litho.astype('category')\n",
    "lcover=['LC1','LC2', 'LC3', 'LC4', 'LC5', 'LC7']\n",
    "data['lcover']=data[lcover].idxmax(axis=1)\n",
    "data['lcover']=data.lcover.astype('category')\n",
    "soil=['Soil1', 'Soil2','Soil3', 'Soil4', 'Soil5', 'Soil6', 'Soil7', 'Soil8']\n",
    "data['soil'] = data[soil].idxmax(axis=1)\n",
    "data['soil']=data.soil.astype('category')\n",
    "data['Catchment']=data.Catchment.astype('category')"
   ]
  },
  {
   "cell_type": "code",
   "execution_count": 4,
   "id": "2ed77936",
   "metadata": {},
   "outputs": [],
   "source": [
    "cov_forced=['Delta_mean','rain30day','Catchment','AreaSU']\n",
    "cov_to_select=['Slope_mean','Slope_std', 'Curv_mean', 'PrCur_mean','PlCur_mean',\n",
    "     'North_mean', 'East_mean', 'Spi_mean', 'Twi_mean','CA_mean', 'CS_mean','litho','lcover','soil']\n",
    "cov=cov_forced+cov_to_select\n",
    "X=data[cov]\n",
    "data['Landslide'] = data['Landslide'].replace(np.nan, 0)\n",
    "y=data.Landslide"
   ]
  },
  {
   "cell_type": "markdown",
   "id": "bc117208",
   "metadata": {},
   "source": [
    "## Clustering"
   ]
  },
  {
   "cell_type": "code",
   "execution_count": 5,
   "id": "dcfa8de9",
   "metadata": {},
   "outputs": [],
   "source": [
    "from sklearn.cluster import KMeans\n",
    "kmeans = KMeans(init=\"random\",n_clusters=5,n_init=10,max_iter=300,random_state=42)\n",
    "kmeans.fit(coordinates)\n",
    "data['cluster']=kmeans.labels_\n",
    "num_folds=len(np.unique(kmeans.labels_, return_counts=True)[0])"
   ]
  },
  {
   "cell_type": "markdown",
   "id": "dc603217",
   "metadata": {},
   "source": [
    "## Variable selection"
   ]
  },
  {
   "cell_type": "code",
   "execution_count": 6,
   "id": "ea9117ec",
   "metadata": {},
   "outputs": [],
   "source": [
    "unique,counts=np.unique(y, return_counts=True)\n",
    "n_classes=2\n",
    "w_0=len(y)/(n_classes*counts[0])\n",
    "w_1=len(y)/(n_classes*counts[1])"
   ]
  },
  {
   "cell_type": "code",
   "execution_count": 7,
   "id": "691140d1",
   "metadata": {},
   "outputs": [
    {
     "data": {
      "application/vnd.jupyter.widget-view+json": {
       "model_id": "d3cd93aa413840f1b86df0a33475cc84",
       "version_major": 2,
       "version_minor": 0
      },
      "text/plain": [
       "  0%|          | 0/14 [00:00<?, ?it/s]"
      ]
     },
     "metadata": {},
     "output_type": "display_data"
    }
   ],
   "source": [
    "# STEPFORWARD var selection\n",
    "\n",
    "results_auc={}\n",
    "# Initialize an empty list to store the selected features\n",
    "selected_auc_features = cov_forced\n",
    "# Initialize an empty list to store the AUC values of the selected features\n",
    "selected_auc_values = []\n",
    "# Define the list of candidate features\n",
    "candidate_auc_features=cov_to_select\n",
    "# Loop over the candidate features\n",
    "ebm1 = ExplainableBoostingClassifier(n_jobs=-1,outer_bags=30, min_samples_leaf=2, validation_size=0.2,\n",
    "                                     interactions=[(0,1)],exclude=[1])\n",
    "auc_scores=[]\n",
    "for i in tqdm (range(len(candidate_auc_features))):\n",
    "    auc_dict = {}\n",
    "    for feature in candidate_auc_features:\n",
    "        features = selected_auc_features + [feature]\n",
    "        \n",
    "        for fold in range(0,num_folds):\n",
    "            train_index=data.index[data['cluster']!=fold].tolist()\n",
    "            val_index=data.index[data['cluster']==fold].tolist()\n",
    "            X_train=X.loc[train_index]\n",
    "            y_train=y.loc[train_index]\n",
    "            X_val=X.loc[val_index]\n",
    "            y_val=y.loc[val_index]\n",
    "            sample_weights = np.empty(len(y_train))\n",
    "            sample_weights[y_train == 0] = w_0\n",
    "            sample_weights[y_train == 1] = w_1\n",
    "            ebm1.fit(X_train[features], y_train,sample_weight=sample_weights)\n",
    "            y_pred=ebm1.predict_proba(X_val[features])[:, 1]\n",
    "            auc = roc_auc_score(y_val, y_pred)\n",
    "            auc_scores.append(auc)\n",
    "        mean_auc=np.mean(auc_scores)\n",
    "        std_auc=np.std(auc_scores)\n",
    "        # Add the AUC score to the dictionary\n",
    "        auc_dict[feature] = mean_auc\n",
    "    # Select the candidate feature with the highest AUC value\n",
    "    auc_series = pd.Series(auc_dict)\n",
    "    best_auc_feature = auc_series.idxmax()\n",
    "    best_auc_value = auc_dict[best_auc_feature]\n",
    "    # Add the best feature to the list of selected features\n",
    "    selected_auc_features.append(best_auc_feature)\n",
    "    # Add the AUC value of the best feature to the list of selected AUC values\n",
    "    selected_auc_values.append(best_auc_value)\n",
    "   \n",
    "    # Save the selected feature names and their corresponding AUC values using pickle\n",
    "    results_auc[i] = {'Selected Features': selected_auc_features.copy(),'MEAN AUC Score': auc_dict[best_auc_feature],\n",
    "                     'STD AUC score': std_auc}\n",
    "    # Remove the best feature from the list of candidate features\n",
    "    candidate_auc_features.remove(best_auc_feature)\n",
    "with open('Variable_Selection/variable_selection.pkl', 'wb') as f:\n",
    "        pickle.dump(results_auc, f)"
   ]
  },
  {
   "cell_type": "markdown",
   "id": "3c4e9fd2",
   "metadata": {},
   "source": [
    "## Plot"
   ]
  },
  {
   "cell_type": "code",
   "execution_count": 11,
   "id": "5dc8e683",
   "metadata": {},
   "outputs": [
    {
     "data": {
      "image/png": "[encoded data removed]",
      "text/plain": [
       "<Figure size 640x480 with 1 Axes>"
      ]
     },
     "metadata": {},
     "output_type": "display_data"
    }
   ],
   "source": [
    "file_svs = 'Variable_Selection/variable_selection.pkl'\n",
    "results_auc= pickle.load(open(file_svs, 'rb'))\n",
    "import matplotlib.font_manager as font_manager\n",
    "\n",
    "step_idx_auc = []\n",
    "mean_auc = []\n",
    "std_auc=[]\n",
    "for index, values in results_auc.items():\n",
    "    step_idx_auc.append(index)\n",
    "    mean_auc.append(values['MEAN AUC Score'])\n",
    "    std_auc.append(values['STD AUC score'])\n",
    "step_arr=np.array(step_idx_auc)\n",
    "features=step_arr+1\n",
    "\n",
    "plt.plot(features,mean_auc,color='black',linestyle='--', marker='o',linewidth=1)\n",
    "plt.scatter(features,mean_auc,color='dodgerblue',edgecolor='black',label='Mean AUC',zorder=10)\n",
    "plt.axvline(x=6,color='red',label='Selected susbset')\n",
    "plt.ylim(0.65,0.7)\n",
    "plt.xlim(0,15)\n",
    "plt.xlabel('Number of variables added to the default model')\n",
    "plt.ylabel('AUC')\n",
    "plt.xticks(np.arange(min(features), max(features)+1, 1))\n",
    "font = font_manager.FontProperties(family='Calibri', size=10)\n",
    "leg=plt.legend(loc='lower right',prop=font)\n",
    "leg.get_frame().set_edgecolor('black')\n",
    "plt.savefig('Outputs/plots/variable_selection_zoom.png')\n",
    "plt.show()"
   ]
  },
  {
   "cell_type": "code",
   "execution_count": null,
   "id": "40179a06",
   "metadata": {},
   "outputs": [],
   "source": []
  },
  {
   "cell_type": "code",
   "execution_count": null,
   "id": "2fc5bd3f",
   "metadata": {},
   "outputs": [],
   "source": []
  }
 ],
 "metadata": {
  "kernelspec": {
   "display_name": "Python 3",
   "language": "python",
   "name": "python3"
  },
  "language_info": {
   "codemirror_mode": {
    "name": "ipython",
    "version": 3
   },
   "file_extension": ".py",
   "mimetype": "text/x-python",
   "name": "python",
   "nbconvert_exporter": "python",
   "pygments_lexer": "ipython3",
   "version": "3.9.12"
  }
 },
 "nbformat": 4,
 "nbformat_minor": 5
}
